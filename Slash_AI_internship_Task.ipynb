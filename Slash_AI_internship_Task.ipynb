{
  "nbformat": 4,
  "nbformat_minor": 0,
  "metadata": {
    "colab": {
      "provenance": []
    },
    "kernelspec": {
      "name": "python3",
      "display_name": "Python 3"
    },
    "language_info": {
      "name": "python"
    }
  },
  "cells": [
    {
      "cell_type": "code",
      "source": [
        "!pip install streamlit\n",
        "!pip install pyngrok"
      ],
      "metadata": {
        "colab": {
          "base_uri": "https://localhost:8080/"
        },
        "id": "tlom5rIYAOGh",
        "outputId": "1500b6c8-d4c7-4dc4-9889-db8035b1cf79"
      },
      "execution_count": 167,
      "outputs": [
        {
          "output_type": "stream",
          "name": "stdout",
          "text": [
            "Requirement already satisfied: streamlit in /usr/local/lib/python3.10/dist-packages (1.36.0)\n",
            "Requirement already satisfied: altair<6,>=4.0 in /usr/local/lib/python3.10/dist-packages (from streamlit) (4.2.2)\n",
            "Requirement already satisfied: blinker<2,>=1.0.0 in /usr/lib/python3/dist-packages (from streamlit) (1.4)\n",
            "Requirement already satisfied: cachetools<6,>=4.0 in /usr/local/lib/python3.10/dist-packages (from streamlit) (5.3.3)\n",
            "Requirement already satisfied: click<9,>=7.0 in /usr/local/lib/python3.10/dist-packages (from streamlit) (8.1.7)\n",
            "Requirement already satisfied: numpy<3,>=1.20 in /usr/local/lib/python3.10/dist-packages (from streamlit) (1.25.2)\n",
            "Requirement already satisfied: packaging<25,>=20 in /usr/local/lib/python3.10/dist-packages (from streamlit) (24.1)\n",
            "Requirement already satisfied: pandas<3,>=1.3.0 in /usr/local/lib/python3.10/dist-packages (from streamlit) (2.0.3)\n",
            "Requirement already satisfied: pillow<11,>=7.1.0 in /usr/local/lib/python3.10/dist-packages (from streamlit) (9.4.0)\n",
            "Requirement already satisfied: protobuf<6,>=3.20 in /usr/local/lib/python3.10/dist-packages (from streamlit) (3.20.3)\n",
            "Requirement already satisfied: pyarrow>=7.0 in /usr/local/lib/python3.10/dist-packages (from streamlit) (14.0.2)\n",
            "Requirement already satisfied: requests<3,>=2.27 in /usr/local/lib/python3.10/dist-packages (from streamlit) (2.31.0)\n",
            "Requirement already satisfied: rich<14,>=10.14.0 in /usr/local/lib/python3.10/dist-packages (from streamlit) (13.7.1)\n",
            "Requirement already satisfied: tenacity<9,>=8.1.0 in /usr/local/lib/python3.10/dist-packages (from streamlit) (8.4.1)\n",
            "Requirement already satisfied: toml<2,>=0.10.1 in /usr/local/lib/python3.10/dist-packages (from streamlit) (0.10.2)\n",
            "Requirement already satisfied: typing-extensions<5,>=4.3.0 in /usr/local/lib/python3.10/dist-packages (from streamlit) (4.12.2)\n",
            "Requirement already satisfied: gitpython!=3.1.19,<4,>=3.0.7 in /usr/local/lib/python3.10/dist-packages (from streamlit) (3.1.43)\n",
            "Requirement already satisfied: pydeck<1,>=0.8.0b4 in /usr/local/lib/python3.10/dist-packages (from streamlit) (0.9.1)\n",
            "Requirement already satisfied: tornado<7,>=6.0.3 in /usr/local/lib/python3.10/dist-packages (from streamlit) (6.3.3)\n",
            "Requirement already satisfied: watchdog<5,>=2.1.5 in /usr/local/lib/python3.10/dist-packages (from streamlit) (4.0.1)\n",
            "Requirement already satisfied: entrypoints in /usr/local/lib/python3.10/dist-packages (from altair<6,>=4.0->streamlit) (0.4)\n",
            "Requirement already satisfied: jinja2 in /usr/local/lib/python3.10/dist-packages (from altair<6,>=4.0->streamlit) (3.1.4)\n",
            "Requirement already satisfied: jsonschema>=3.0 in /usr/local/lib/python3.10/dist-packages (from altair<6,>=4.0->streamlit) (4.19.2)\n",
            "Requirement already satisfied: toolz in /usr/local/lib/python3.10/dist-packages (from altair<6,>=4.0->streamlit) (0.12.1)\n",
            "Requirement already satisfied: gitdb<5,>=4.0.1 in /usr/local/lib/python3.10/dist-packages (from gitpython!=3.1.19,<4,>=3.0.7->streamlit) (4.0.11)\n",
            "Requirement already satisfied: python-dateutil>=2.8.2 in /usr/local/lib/python3.10/dist-packages (from pandas<3,>=1.3.0->streamlit) (2.8.2)\n",
            "Requirement already satisfied: pytz>=2020.1 in /usr/local/lib/python3.10/dist-packages (from pandas<3,>=1.3.0->streamlit) (2023.4)\n",
            "Requirement already satisfied: tzdata>=2022.1 in /usr/local/lib/python3.10/dist-packages (from pandas<3,>=1.3.0->streamlit) (2024.1)\n",
            "Requirement already satisfied: charset-normalizer<4,>=2 in /usr/local/lib/python3.10/dist-packages (from requests<3,>=2.27->streamlit) (3.3.2)\n",
            "Requirement already satisfied: idna<4,>=2.5 in /usr/local/lib/python3.10/dist-packages (from requests<3,>=2.27->streamlit) (3.7)\n",
            "Requirement already satisfied: urllib3<3,>=1.21.1 in /usr/local/lib/python3.10/dist-packages (from requests<3,>=2.27->streamlit) (2.0.7)\n",
            "Requirement already satisfied: certifi>=2017.4.17 in /usr/local/lib/python3.10/dist-packages (from requests<3,>=2.27->streamlit) (2024.6.2)\n",
            "Requirement already satisfied: markdown-it-py>=2.2.0 in /usr/local/lib/python3.10/dist-packages (from rich<14,>=10.14.0->streamlit) (3.0.0)\n",
            "Requirement already satisfied: pygments<3.0.0,>=2.13.0 in /usr/local/lib/python3.10/dist-packages (from rich<14,>=10.14.0->streamlit) (2.16.1)\n",
            "Requirement already satisfied: smmap<6,>=3.0.1 in /usr/local/lib/python3.10/dist-packages (from gitdb<5,>=4.0.1->gitpython!=3.1.19,<4,>=3.0.7->streamlit) (5.0.1)\n",
            "Requirement already satisfied: MarkupSafe>=2.0 in /usr/local/lib/python3.10/dist-packages (from jinja2->altair<6,>=4.0->streamlit) (2.1.5)\n",
            "Requirement already satisfied: attrs>=22.2.0 in /usr/local/lib/python3.10/dist-packages (from jsonschema>=3.0->altair<6,>=4.0->streamlit) (23.2.0)\n",
            "Requirement already satisfied: jsonschema-specifications>=2023.03.6 in /usr/local/lib/python3.10/dist-packages (from jsonschema>=3.0->altair<6,>=4.0->streamlit) (2023.12.1)\n",
            "Requirement already satisfied: referencing>=0.28.4 in /usr/local/lib/python3.10/dist-packages (from jsonschema>=3.0->altair<6,>=4.0->streamlit) (0.35.1)\n",
            "Requirement already satisfied: rpds-py>=0.7.1 in /usr/local/lib/python3.10/dist-packages (from jsonschema>=3.0->altair<6,>=4.0->streamlit) (0.18.1)\n",
            "Requirement already satisfied: mdurl~=0.1 in /usr/local/lib/python3.10/dist-packages (from markdown-it-py>=2.2.0->rich<14,>=10.14.0->streamlit) (0.1.2)\n",
            "Requirement already satisfied: six>=1.5 in /usr/local/lib/python3.10/dist-packages (from python-dateutil>=2.8.2->pandas<3,>=1.3.0->streamlit) (1.16.0)\n",
            "Requirement already satisfied: pyngrok in /usr/local/lib/python3.10/dist-packages (7.1.6)\n",
            "Requirement already satisfied: PyYAML>=5.1 in /usr/local/lib/python3.10/dist-packages (from pyngrok) (6.0.1)\n"
          ]
        }
      ]
    },
    {
      "cell_type": "code",
      "execution_count": 177,
      "metadata": {
        "colab": {
          "base_uri": "https://localhost:8080/"
        },
        "id": "AMMG9JRTbax-",
        "outputId": "c59f372e-d803-4e6e-b5ee-6d3ccf35894d"
      },
      "outputs": [
        {
          "output_type": "stream",
          "name": "stdout",
          "text": [
            "Overwriting app.py\n"
          ]
        }
      ],
      "source": [
        "%%writefile app.py\n",
        "import streamlit as st\n",
        "import cv2\n",
        "import numpy as np\n",
        "from pyngrok import ngrok"
      ]
    },
    {
      "cell_type": "code",
      "source": [
        "def load_yolo_model():\n",
        "    # Loading the pre-trained model (weights and configuration)\n",
        "    network = cv2.dnn.readNet(\"/content/yolov3.weights\", \"/content/yolov3.cfg\")\n",
        "    classes_names = []\n",
        "    # Loding the file that has the classes names and storing them in the array \"classes\"\n",
        "    with open(\"/content/coco.names\", \"r\") as f:\n",
        "        classes_names = [line.strip() for line in f.readlines()]\n",
        "    # Getting the names of each output layer\n",
        "    layer_names = network.getLayerNames()\n",
        "    output_layers = [layer_names[i - 1] for i in network.getUnconnectedOutLayers()]\n",
        "    # Creating an rgb color for each class. It's the color of the drawn box of each detected object\n",
        "    boxes_colors = np.random.uniform(0, 255, size=(len(classes_names), 3))\n",
        "    return network, classes_names, output_layers, boxes_colors"
      ],
      "metadata": {
        "id": "FS-MrF3wMIJ_"
      },
      "execution_count": 178,
      "outputs": []
    },
    {
      "cell_type": "code",
      "source": [
        "def process_image(uploaded_file):\n",
        "    file_bytes = np.asarray(bytearray(uploaded_file.read()), dtype=np.uint8)\n",
        "    # Loading the uploaded image\n",
        "    img = cv2.imdecode(file_bytes, 1)\n",
        "    # Resizing the image\n",
        "    img = cv2.resize(img, None, fx=0.4, fy=0.4)\n",
        "    return img"
      ],
      "metadata": {
        "id": "UJWzUEzJL7Le"
      },
      "execution_count": 179,
      "outputs": []
    },
    {
      "cell_type": "code",
      "source": [
        "def detect_objects(network, output_layers, img):\n",
        "    img_height, img_width, _ = img.shape\n",
        "    # Converting the image into a blob\n",
        "    blob_obj = cv2.dnn.blobFromImage(img, 1/255, (416, 416), (0, 0, 0), True, crop=False)\n",
        "    # Setting the input of the network\n",
        "    network.setInput(blob_obj)\n",
        "    # Processing the blob and storing the output\n",
        "    outputs = network.forward(output_layers)\n",
        "\n",
        "    # Extracting the detected objects and their information\n",
        "    class_ids, confidences, boxes_info = [], [], []\n",
        "    threshold = 0.5\n",
        "    # Looping throw each layer's output (array)\n",
        "    for output in outputs:\n",
        "        # Checking the detection result of each object from this layer\n",
        "        for detection in output:\n",
        "            confidence_scores = detection[5:]\n",
        "            class_id = np.argmax(confidence_scores)\n",
        "            confidence = confidence_scores[class_id]\n",
        "            if confidence > threshold:\n",
        "                # Getting the coordinates of the center of the box\n",
        "                center_x = int(detection[0] * img_width)\n",
        "                center_y = int(detection[1] * img_height)\n",
        "                # Getting the width and height of the box\n",
        "                w = int(detection[2] * img_width)\n",
        "                h = int(detection[3] * img_height)\n",
        "                # Getting the coordinates of the top-left point of the box\n",
        "                x = int(center_x - w / 2)\n",
        "                y = int(center_y - h / 2)\n",
        "                # Adding them to the boxes_info array in order to graph them later\n",
        "                boxes_info.append([x, y, w, h])\n",
        "                # Storing the confidence of the object and the index of it among the classes\n",
        "                confidences.append(float(confidence))\n",
        "                class_ids.append(class_id)\n",
        "\n",
        "    # Making the number of boxes for each object only 1\n",
        "    indices = cv2.dnn.NMSBoxes(boxes_info, confidences, 0.5, 0.4)\n",
        "    return class_ids, confidences, boxes_info, indices"
      ],
      "metadata": {
        "id": "C__F4-m3MUVF"
      },
      "execution_count": 180,
      "outputs": []
    },
    {
      "cell_type": "code",
      "source": [
        "# Drawing each highlighted box\n",
        "def draw_labels(img, class_ids, boxes_info, indices, classes_names, boxes_colors):\n",
        "    for i in range(len(boxes_info)):\n",
        "        if i in indices:\n",
        "            x, y, w, h = boxes_info[i]\n",
        "            label = str(classes_names[class_ids[i]])\n",
        "            color = boxes_colors[i]\n",
        "            cv2.rectangle(img, (x, y), (x + w, y + h), color, 2)\n",
        "            cv2.putText(img, label, (x, y + 30), cv2.FONT_HERSHEY_PLAIN, 3, color, 3)\n",
        "    return img"
      ],
      "metadata": {
        "id": "KvUcVv37MY6n"
      },
      "execution_count": 190,
      "outputs": []
    },
    {
      "cell_type": "code",
      "source": [
        "st.title(\"YOLO Object Detection\")\n",
        "st.write(\"Upload an image to detect objects using YOLOv3.\")\n",
        "uploaded_file = st.file_uploader(\"Choose an image...\", type=[\"jpg\", \"jpeg\", \"png\"])\n",
        "if st.button(\"Analyze Image\") and uploaded_file:\n",
        "    network, classes_names, output_layers, boxes_colors = load_yolo_model()\n",
        "    img = process_image(uploaded_file)\n",
        "    class_ids, confidences, boxes_info, indices = detect_objects(network, output_layers, img)\n",
        "    img = draw_labels(img, class_ids, boxes_info, indices, classes_names, boxes_colors)\n",
        "    st.image(cv2.cvtColor(img, cv2.COLOR_BGR2RGB), caption=\"Analyzed Image\", use_column_width=True)\n",
        "    detected_objects = set([classes_names[class_ids[i]] for i in indices])\n",
        "    st.write(\"Detected objects from the image:\", detected_objects)"
      ],
      "metadata": {
        "id": "S3gOfdzbMdt8"
      },
      "execution_count": 186,
      "outputs": []
    },
    {
      "cell_type": "code",
      "source": [
        "ngrok.kill()"
      ],
      "metadata": {
        "id": "pYN71uv9FdjN"
      },
      "execution_count": 187,
      "outputs": []
    },
    {
      "cell_type": "code",
      "source": [
        "!nohup streamlit run app.py &"
      ],
      "metadata": {
        "colab": {
          "base_uri": "https://localhost:8080/"
        },
        "id": "3TRbsOq2b16B",
        "outputId": "ee95a6e1-2bec-4c38-8a06-a269cb36be3d"
      },
      "execution_count": 188,
      "outputs": [
        {
          "output_type": "stream",
          "name": "stdout",
          "text": [
            "nohup: appending output to 'nohup.out'\n"
          ]
        }
      ]
    },
    {
      "cell_type": "code",
      "source": [
        "from pyngrok import ngrok\n",
        "ngrok.set_auth_token(\"2iHymarkdwi1qongwzKPmvyGWNb_2dp8wHc6i4rTbR2vXXrXu\")\n",
        "public_url = ngrok.connect(8501)\n",
        "print(f\"Streamlit app running at: {public_url}\")"
      ],
      "metadata": {
        "colab": {
          "base_uri": "https://localhost:8080/"
        },
        "id": "QP6JNAAxB56-",
        "outputId": "6b18b16d-0e98-494d-b00e-ced678d08632"
      },
      "execution_count": 189,
      "outputs": [
        {
          "output_type": "stream",
          "name": "stdout",
          "text": [
            "Streamlit app running at: NgrokTunnel: \"https://2ee6-35-199-30-20.ngrok-free.app\" -> \"http://localhost:8501\"\n"
          ]
        }
      ]
    }
  ]
}